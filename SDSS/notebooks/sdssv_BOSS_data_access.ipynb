{
 "cells": [
  {
   "cell_type": "markdown",
   "id": "9248302d-643f-4911-b7ef-571c0cecb4d5",
   "metadata": {},
   "source": [
    "# Accessing SDSS-V Spectra (BOSS)\n",
    "This notebook demonstrates methods that can be used for programmatic access to SDSS-V data products from the BOSS spectrograph. Prior to running this notebook, you should have already done the following:\n",
    "\n",
    "* If not yet an official SDSS-V collaboration member:\n",
    "  * Sign up for an SDSS-V Twiki Account (follow [instructions here](https://wiki.sdss.org/))\n",
    "  * Follow the [SDSS-V Welcome instructions](https://sdss-wiki.atlassian.net/wiki/spaces/SDSS/pages/13343105/Welcome+to+SDSS-V) for new collaborators\n",
    "* Get the SDSS-V data access credentials so you can access [https://data.sdss5.org/sas/sdsswork/](https://data.sdss5.org/sas/sdsswork/)\n",
    "* [Create a .netrc file](https://sdss-access.readthedocs.io/en/latest/auth.html) in your home directory with SDSS-V username and password"
   ]
  },
  {
   "cell_type": "code",
   "execution_count": null,
   "id": "20f989cf-fa8f-4c51-a2e3-da1d317ac03e",
   "metadata": {},
   "outputs": [],
   "source": [
    "import os\n",
    "import io\n",
    "import sys\n",
    "import time\n",
    "import requests\n",
    "import numpy as np\n",
    "import pandas as pd\n",
    "import astropy.units as u\n",
    "import matplotlib.pyplot as plt\n",
    "\n",
    "from netrc import netrc\n",
    "from astropy.io import fits\n",
    "from astropy.coordinates import SkyCoord\n",
    "from astropy.coordinates import match_coordinates_sky\n",
    "from astroquery.vizier import Vizier\n",
    "from IPython.display import display, Markdown\n",
    "\n",
    "# SDSS-V Tools\n",
    "sys.path.insert(1, '../')\n",
    "import sdssv_utils as sdssv"
   ]
  },
  {
   "cell_type": "markdown",
   "id": "1a7602ab-a95c-4d42-837f-ffb23eb38815",
   "metadata": {},
   "source": [
    "# BOSS Spectra\n",
    "The [BOSS instruments](https://www.sdss.org/instruments/boss-spectrographs/) are optical spectrographs with wavelength coverage of 3600-10400 Angstrom and resolutions of R~2000. There are two identical BOSS spectrographs, one located in the northern hemisphere at Apache Point Observatory (APO), and one in the southern hemisphere at Las Campanas Observatory (LCO), both on 2.5-m telescopes. Each spectrograph has 500, 2-arcsec fibers with robotic fiber positioners."
   ]
  },
  {
   "cell_type": "markdown",
   "id": "9e725f4c-5ba9-4398-b8ec-08e094d1ff27",
   "metadata": {},
   "source": [
    "## Pipeline Versions and [Internal Product Launches (IPLs)](https://wiki.sdss.org/display/IPL/Internal+Product+Launch)\n",
    "Whenever you access SDSS data, you will have to choose from which pipeline version or IPL you wish to get data from. IPLs contain data that have undergone more rigorous data quality and assurance processes, but only provide data up to a fixed cutoff date and for specific observatories for each instrument (e.g for IPL-3, BOSS spectra are only provided from the northern APO site up to MJD = 60130). Similarly, specific pipeline versions, like \"v6_1_3\", are also often limited in scope, since they are usually developed to support specific IPLs or future public data releases. When a new pipeline version is released, all old data is reprocessed. Older pipelines are no longer run on newer data, but the data data products produced by older pipelines remain available. On the other hand, you can get more recent spectra from all observing sites by downloading directly from the ''master'' directory (e.g. https://data.sdss5.org/sas/sdsswork/bhm/boss/spectro/redux/master), but you are more likely to encounter poor-quality data or other bugs/issues. \n",
    "\n",
    "In addition, the data products being provided will change from version to version and for each IPL. For example, the BOSS pipeline used for IPLs 1 and 2 (v6.0.9) only performed coadds for spectra taken on the same MJD, but starting with [IPL-3](https://wiki.sdss.org/display/IPL/BOSS+Field+Epoch+Coadds+and+Custom+Coadd) and in pipeline versions v6_1_1 and later, multi-day and custom coadds requested by different working groups will also be provided, which can be accessed using the \"epoch\" and \"allepoch\" COADD_TYPE options. Many other types of data products (e.g. stellar parameters) are also provided that are not shown in this notebook.\n",
    "\n",
    "So in short, it's important to consider which data products or pipeline version you'd like to use for a given project. This notebook and the `sdssv_utils.py` script are currently capable of providing access to SDSS-V BOSS spectra from IPLs 1, 2 and 3, from pipeline versions 6.0.9, 6.1.0, 6.1.1, 6.1.2, 6.1.3, and from the master directory. "
   ]
  },
  {
   "cell_type": "markdown",
   "id": "2cf02f31-1258-49e8-83c3-59ba5cec52e7",
   "metadata": {},
   "source": [
    "## Set Some Global Variables\n",
    "Supported Options:\n",
    "* `VERSION`:  <span style=\"font-family:Courier New\">ipl-1, ipl-2, ipl-3, v6_0_9, v6_1_0, v6_1_1, v6_1_2, v6_1_3, master</span>\n",
    "* `SPALL_TYPE`:  <span style=\"font-family:Courier New\">lite, full</span>\n",
    "* `SPEC_TYPE`:  <span style=\"font-family:Courier New\">lite, full</span>\n",
    "* `COADD_TYPE`:  <span style=\"font-family:Courier New\">daily, epoch, allepoch</span>\n",
    "\n",
    "<b>NOTE: \"epoch\" and \"allepoch\" COADD_TYPE options only work with IPL-3, v6_1_1, v6_1_2, and v6_1_3!</b>"
   ]
  },
  {
   "cell_type": "code",
   "execution_count": null,
   "id": "6b8799b8-e340-40a8-84b5-37ec204092a1",
   "metadata": {},
   "outputs": [],
   "source": [
    "VERSION = \"master\"                # BOSS Pipeline/Release Version\n",
    "SPALL_TYPE = 'lite'               # Type of spAll file being used. Either full or lite.\n",
    "SPEC_TYPE = 'full'                # Either full or lite. lite is coadd only. full is coadd + individual spectra\n",
    "COADD_TYPE = 'daily'              # Determines what type of spectral coadd to download\n",
    "SPALL_DIR = f\"./spall/{VERSION}/{COADD_TYPE}\"  # Local directory where spAll file exists"
   ]
  },
  {
   "cell_type": "markdown",
   "id": "97daa2ab-d99c-49ba-8713-b8993aa2e4f8",
   "metadata": {},
   "source": [
    "## Set Some Base Remote URLs using Choices Above"
   ]
  },
  {
   "cell_type": "code",
   "execution_count": null,
   "id": "d35b4da6-7e72-420f-8923-258fb422e94f",
   "metadata": {},
   "outputs": [],
   "source": [
    "# Set sdss-access RELEASE name\n",
    "if 'ipl' in VERSION:\n",
    "    RELEASE = VERSION.replace(\"-\",\"\").upper()\n",
    "else:\n",
    "    RELEASE = 'sdsswork'\n",
    "\n",
    "# Set SAS Base and Remote URLs\n",
    "if 'ipl' in VERSION:\n",
    "    PIPELINE_VERSION = sdssv.get_IPL_BOSS_pipeline_version(VERSION)        # Pipeline version used for given IPL\n",
    "    SAS_BASE = f'https://data.sdss5.org/sas/{VERSION}'                # Base URL for the SDSS Science Archive Server\n",
    "    REMOTE_DIR = f\"{SAS_BASE}/spectro/boss/redux/{PIPELINE_VERSION}\"  # URL where spAll file and spectra can be found for BOSS\n",
    "else:\n",
    "    PIPELINE_VERSION = VERSION\n",
    "    SAS_BASE = f'https://data.sdss5.org/sas/sdsswork'\n",
    "    REMOTE_DIR = f\"{SAS_BASE}/bhm/boss/spectro/redux/{VERSION}\" \n",
    "\n",
    "print(f'Remote directory: {REMOTE_DIR}')"
   ]
  },
  {
   "cell_type": "markdown",
   "id": "f5c1ef01-3500-49ca-a5ce-94fe0005b8fa",
   "metadata": {},
   "source": [
    "## Check for the SpAll File\n",
    "The spAll file contains a list of reduced BOSS spectra available from SDSS-V. Each pipeline version or IPL has an associated spAll file, which can be found in the version/IPL's subdirectory here:\n",
    "https://data.sdss5.org/sas/sdsswork/bhm/boss/spectro/redux/\n",
    "\n",
    "Again, several pipeline versions and IPLs exist, so make sure you are downloading the correct file for the version you wish to use. In this notebook, we'll be checking for the **LITE** version of the **master** spAll file. There is also a FULL spAll version with more parameters, but it is a much larger file. At present (2024 May 21), the LITE version of the master spAll file is about 1.5 Gb compressed and 6.5 Gb uncompressed."
   ]
  },
  {
   "cell_type": "code",
   "execution_count": null,
   "id": "db380835-626e-408b-98bc-c4c25e377a0e",
   "metadata": {},
   "outputs": [],
   "source": [
    "# Make sure SPALL_DIR exists\n",
    "if not os.path.exists(SPALL_DIR):\n",
    "    os.makedirs(SPALL_DIR)\n",
    "\n",
    "# Define spAll filename and path\n",
    "spall_filename = sdssv.get_spall_filename(VERSION, SPALL_TYPE, COADD_TYPE)\n",
    "spall_filepath = f\"{SPALL_DIR}/{spall_filename}\"\n",
    "\n",
    "sdssv.download_spall(\n",
    "    VERSION,\n",
    "    coadd_type=COADD_TYPE,\n",
    "    spall_type=SPALL_TYPE,\n",
    "    save_dir=SPALL_DIR,\n",
    "    netfile=None,   # Defaults to looking in home directory for .netrc file\n",
    "    overwrite=False # If TRUE, will download spall file even if local file already exists\n",
    ")                   # If FALSE, will only download spall file if it doesn't already exist"
   ]
  },
  {
   "cell_type": "markdown",
   "id": "ec38b965-0067-469d-8ac9-8260ef0d221c",
   "metadata": {},
   "source": [
    "## Load in the SpAll File and Show Sky Coverage"
   ]
  },
  {
   "cell_type": "code",
   "execution_count": null,
   "id": "2c98e765-39ea-4c1a-9a52-06e0fb80284f",
   "metadata": {},
   "outputs": [],
   "source": [
    "# Load spAll\n",
    "with fits.open(spall_filepath) as hdu:\n",
    "    spall = hdu[1].data\n",
    "\n",
    "# Check for any NaN coordinates\n",
    "nan_coords = ((np.isnan(spall.FIBER_RA)) | \n",
    "              (np.isnan(spall.FIBER_DEC)))\n",
    "numnan = sum(nan_coords)\n",
    "spall = spall[~nan_coords]\n",
    "\n",
    "# Get some metadata\n",
    "Nspall = len(spall)\n",
    "mjd_min = np.min(spall.MJD)\n",
    "mjd_max = np.max(spall.MJD)\n",
    "try:\n",
    "    apo_nspec = sum(spall.OBS == 'APO')\n",
    "    lco_nspec = sum(spall.OBS == 'LCO')\n",
    "except: # For earlier versions when only APO data exists\n",
    "    apo_nspec = Nspall\n",
    "    lco_nspec = 0\n",
    "display(Markdown(\"**Summary of spAll File:**\"))\n",
    "print(\n",
    "    f\"\\n{Nspall} spectra available in SDSS-V {VERSION.upper()} spAll-{SPALL_TYPE} file with {COADD_TYPE.upper()} coadds.\" +\n",
    "    f\"\\n   MJD Min = {mjd_min:.0f}\\n   MJD Max = {mjd_max:.0f}\" +\n",
    "    f\"\\n  APO Spec = {apo_nspec}\\n  LCO Spec = {lco_nspec}\" +\n",
    "    f\"\\nNaN Coords = {numnan}\\n\"\n",
    ")\n",
    "\n",
    "# Get a small sample and display one entry of the spAll file\n",
    "display(Markdown(\"<br />**Sample spAll Entry:**\"))\n",
    "spall_sample = pd.DataFrame(\n",
    "    spall[\n",
    "        (spall.SN_MEDIAN_ALL>20) &\n",
    "        (spall.GAIA_G_MAG>10) &\n",
    "        (spall.NEXP <= 6)\n",
    "    ][0:10].tolist(), \n",
    "    columns=spall.columns.names\n",
    ")\n",
    "display(Markdown(spall_sample.head(1).to_markdown()))\n",
    "\n",
    "# Create spAll coordinates object\n",
    "spall_ra = spall.FIBER_RA\n",
    "spall_dec = spall.FIBER_DEC\n",
    "spall_coord = SkyCoord(\n",
    "    ra=spall_ra*u.deg,\n",
    "    dec=spall_dec*u.deg,\n",
    "    frame='icrs'\n",
    ")\n",
    "\n",
    "# Display Sky Positions of random selection of SDSS-V Spectra\n",
    "display(Markdown(\"<br />**Sky Coverage:**\"))\n",
    "Nplot = 1000000 # Max Number of random sources to plot. Nplot = None will plot ALL sources\n",
    "if apo_nspec>0 and lco_nspec>0:\n",
    "    ax = sdssv.sky_plot(spall_coord[spall.OBS=='APO'], size=Nplot, color='coral',label='APO');\n",
    "    ax = sdssv.sky_plot(spall_coord[spall.OBS=='LCO'], size=Nplot, ax=ax, color='skyblue',label='LCO');\n",
    "else:\n",
    "    ax = sdssv.sky_plot(spall_coord, size=Nplot, label='APO');\n",
    "ax.legend(loc='upper right', fontsize=14, markerscale=5, handletextpad=0.5);"
   ]
  },
  {
   "cell_type": "markdown",
   "id": "743e79b3-0418-4206-96d8-06fb1da2c447",
   "metadata": {},
   "source": [
    "## Try Cross Matching a Single Object's Coordinates with SDSS-V Objects\n",
    "This cell will find all rows within the spAll file that match within a defined search radius of an object's coordinates. "
   ]
  },
  {
   "cell_type": "code",
   "execution_count": null,
   "id": "0f40aa97-9412-403a-a5af-bb9b25d88550",
   "metadata": {},
   "outputs": [],
   "source": [
    "# Coordinates for a random star from spAll\n",
    "obj_ra = spall_sample.FIBER_RA.iloc[0]\n",
    "obj_dec = spall_sample.FIBER_DEC.iloc[0]\n",
    "\n",
    "# Perform cross match\n",
    "radius = 2.0 # arcsec\n",
    "idx_spall = sdssv.singleObject_cross_match(\n",
    "    obj_ra, obj_dec, spall_coord, radius=radius\n",
    ")\n",
    "spall_match = pd.DataFrame(\n",
    "    spall[idx_spall].tolist(), \n",
    "    columns=spall.columns.names\n",
    ")\n",
    "spall_match.drop_duplicates(\n",
    "    subset=['MJD_FINAL','SPEC_FILE'], inplace=True, ignore_index=True\n",
    ")\n",
    "Nmatch = len(spall_match)\n",
    "print(f'Found {Nmatch} SDSS-V spectrum file(s) within {radius:.1f} arcsec radius\\n')\n",
    "\n",
    "# Generate full URL and print out info\n",
    "for i,row in spall_match.iterrows():\n",
    "    \n",
    "    catalogid = row.CATALOGID\n",
    "    field = row.FIELD\n",
    "    mjd = row.MJD\n",
    "    specfile = row.SPEC_FILE\n",
    "    \n",
    "    if COADD_TYPE == 'epoch':\n",
    "        spec_url = f\"{REMOTE_DIR}/epoch/spectra/{SPEC_TYPE}/{field:06d}/{mjd:5d}/{specfile}\"\n",
    "    elif COADD_TYPE == 'allepoch':\n",
    "        spec_url = f\"{REMOTE_DIR}/spectra/{SPEC_TYPE}/allepoch/{mjd:5d}/{specfile}\"\n",
    "    else:\n",
    "        spec_url = f\"{REMOTE_DIR}/spectra/{SPEC_TYPE}/{field:06d}/{mjd:5d}/{specfile}\"\n",
    "\n",
    "    print(f'SPEC-{i+1}\\n----------------------')\n",
    "    print(' FIBER-RA = {:10.6f}'.format(row.FIBER_RA))\n",
    "    print('FIBER-DEC = {:10.6f}'.format(row.FIBER_DEC))\n",
    "    print('CATALOGID = {:d}'.format(row.CATALOGID))\n",
    "    print('    FIELD = {:d}'.format(row.FIELD))\n",
    "    print('      MJD = {:d}'.format(row.MJD))\n",
    "    print('    CLASS = {}'.format(row.CLASS))\n",
    "    print(' SUBCLASS = {}'.format(row.SUBCLASS))\n",
    "    print('   CARTON = {}'.format(row.FIRSTCARTON))\n",
    "    print('SPEC FILE = {}'.format(row.SPEC_FILE))\n",
    "    print(f' SPEC URL = {spec_url}\\n')\n",
    "    \n",
    "display(Markdown(spall_match.to_markdown()))"
   ]
  },
  {
   "cell_type": "markdown",
   "id": "2a73bd57-433e-4f6e-bdd2-42f4495f887b",
   "metadata": {},
   "source": [
    "### Download Spectrum to Directory of Choice using urllib\n",
    "This cell will use the SDSS-V username and password stored in the .netrc file in your home directory. If you don't have a .netrc file in your home directory yet, or it doesn't yet contain an entry for SDSS-V, you can create one following the instructions [here](https://sdss-access.readthedocs.io/en/latest/auth.html). The urllib download function contained in the sdssv_utils.py script (download_spec_urllib) uses multiprocessing, which sometimes does not play nice with different operatign systems. Let me know (zvanderb@caltech.edu) if you experience any problems."
   ]
  },
  {
   "cell_type": "code",
   "execution_count": null,
   "id": "fe2f5dbb-ecf8-49fd-b6e8-56caea45c8b2",
   "metadata": {},
   "outputs": [],
   "source": [
    "SAVE_DIR = f\"./spec_files/{VERSION}/{COADD_TYPE}\"\n",
    "if not os.path.exists(SAVE_DIR):\n",
    "    os.makedirs(SAVE_DIR)\n",
    "\n",
    "# Download the spectra\n",
    "spec_paths_urllib = sdssv.download_spec_urllib(\n",
    "    spall_match,\n",
    "    VERSION,\n",
    "    save_dir=SAVE_DIR,\n",
    "    coadd_type=COADD_TYPE,\n",
    "    spectype=SPEC_TYPE,\n",
    "    netfile=None,   # Defaults to looking in home directory for .netrc file\n",
    "    threads=8,      # Number of parallel download streams\n",
    "    chunksize=100,  # Number of jobs to submit at once\n",
    "    sleeptime=3.0,  # Time (sec) to pause between job submissions\n",
    "    overwrite=False # Whether to overwrite existing local spectra\n",
    ")\n",
    "\n",
    "# Print local paths to downloaded files\n",
    "print('\\nLocal File Paths to Spectra:')\n",
    "for sp in spec_paths_urllib:\n",
    "    print(sp)"
   ]
  },
  {
   "cell_type": "markdown",
   "id": "1994ed13-cd57-4537-be76-2663ca2bf8f4",
   "metadata": {},
   "source": [
    "### Load and Plot the Spectrum (Coadd Only)"
   ]
  },
  {
   "cell_type": "code",
   "execution_count": null,
   "id": "260c1d03-db9e-4ef3-b036-043a883239f3",
   "metadata": {},
   "outputs": [],
   "source": [
    "spec_idx = 0\n",
    "specname = spec_paths_urllib[spec_idx]\n",
    "spec_data = sdssv.load_SDSS_spectrum(\n",
    "    specname, \n",
    "    method='COADD' # Only the co-added spectrum will be returned\n",
    ")\n",
    "sdssv.plot_spectrum(\n",
    "    spec_data['COADD'], \n",
    "    spall_dat=spall_match.iloc[spec_idx],\n",
    "    show_sky=False,\n",
    "    show_uncertainty=True\n",
    ");\n",
    "plt.close()"
   ]
  },
  {
   "cell_type": "markdown",
   "id": "25f31d10-f00d-4312-85a2-7bc06a10ae1d",
   "metadata": {},
   "source": [
    "### Load and Plot Individual Spectra\n",
    "If you are downloading the **full** versions of the spectra, there may be multiple individual exposures comprising the COADD that you can extract from the spec files. If using the **lite** versions of the spectra, only coadds are available within the files."
   ]
  },
  {
   "cell_type": "code",
   "execution_count": null,
   "id": "0b5d8bbf-1937-43a5-bc0e-9cbaf6dfe518",
   "metadata": {},
   "outputs": [],
   "source": [
    "specname = spec_paths_urllib[spec_idx]\n",
    "spec_data = sdssv.load_SDSS_spectrum(\n",
    "    specname, \n",
    "    method='ALL' # All individual spectra + coadd are returned\n",
    ")\n",
    "\n",
    "if SPEC_TYPE == 'lite':\n",
    "    print('Only COADDs are available in LITE spec files.')\n",
    "else:    \n",
    "    for key in spec_data.keys():\n",
    "        \n",
    "        if key == 'COADD':\n",
    "            continue\n",
    "            \n",
    "        sdssv.plot_spectrum(\n",
    "            spec_data[key],\n",
    "            show_uncertainty=True\n",
    "        );\n",
    "        plt.close()"
   ]
  },
  {
   "cell_type": "markdown",
   "id": "cd81100f-7bde-46d8-9281-7afe5c226302",
   "metadata": {},
   "source": [
    "## Downloading Spectra for Multiple Objects\n",
    "As an example of cross matching multiple objects with the spAll file, the following cells will look for all spectra obtained for objects within a specific SDSS-V carton, in this case the **mwm_wd_core** carton. [SDSS-V cartons](https://www.sdss.org/dr18/targeting/) are groups of objects with specific survey requirements (e.g. cadence, instrument, and dark vs. bright time) and well-defined selection criteria. All SDSS-V carton targeting information was released as part of SDSS DR18 (see [Almeida et al. 2023](https://ui.adsabs.harvard.edu/abs/2023ApJS..267...44A/abstract)) and is publicly available information.\n",
    "\n",
    "This is a slightly roundabout way to get spectra for a specific carton since the spAll files themselves contain a **FIRSTCARTON** column that can used to identify objects within a specific carton, but this is just to help illustrate multi-object cross-matching as well as demonstrate the functions in *sdssv_utils* that provide carton information.\n",
    "\n",
    "First let's print out all of the available SDSS-V carton names and IDs:"
   ]
  },
  {
   "cell_type": "code",
   "execution_count": null,
   "id": "c9a8ac50-afac-46db-9392-9193bdbde326",
   "metadata": {},
   "outputs": [],
   "source": [
    "sdssv.print_SDSSV_cartons(cartons='all')  # Change cartons to 'mwm' or 'bhm' to only show those groups"
   ]
  },
  {
   "cell_type": "markdown",
   "id": "8bc49aa6-8130-4bed-a551-a83588e30d6d",
   "metadata": {},
   "source": [
    "## Now let's get metadata for sources in the mwm_wd_core (**ID = 585**) carton and cross match with the spAll file"
   ]
  },
  {
   "cell_type": "code",
   "execution_count": null,
   "id": "cafc5311-067e-4eee-8d2a-6783647646f2",
   "metadata": {},
   "outputs": [],
   "source": [
    "# Query carton metadata\n",
    "carton_result = sdssv.sdssv_carton_query(585, qlimit=500000)\n",
    "\n",
    "# Filter out faint sources for better visualization\n",
    "maglim = 19.0\n",
    "carton_result = carton_result.loc[carton_result.gaia_g < maglim].reset_index(drop=True)\n",
    "\n",
    "# Get source coordinates\n",
    "sample_ra = carton_result.ra.values\n",
    "sample_dec = carton_result.dec.values\n",
    "\n",
    "# Perform cross match\n",
    "radius = 1.0 # arcsec\n",
    "idx_sample, idx_spall = sdssv.multiObject_cross_match(\n",
    "    sample_ra, \n",
    "    sample_dec,\n",
    "    spall_coord,\n",
    "    radius=radius\n",
    ")\n",
    "\n",
    "# Create dataframes with objects matched to spectra\n",
    "spall_sample_match = pd.DataFrame(\n",
    "    spall[idx_spall].tolist(),\n",
    "    columns=spall.columns.names\n",
    ")\n",
    "\n",
    "# Ensure all zero-valued G-band magnitudes are replaced\n",
    "spall_sample_match['GAIA_G_MAG'] = carton_result['gaia_g'][idx_sample].values\n",
    "\n",
    "# Print out crossmatch results\n",
    "Nsample_unique = len(spall_sample_match.CATALOGID.unique())\n",
    "print(f\"\\n{Nsample_unique} Unique Sources with G < {maglim:.0f} mag Matched to {len(spall_sample_match)} SDSS-V Spec Files\\n\")"
   ]
  },
  {
   "cell_type": "markdown",
   "id": "04d390dd-7098-4e6e-834f-fffc7aa19c2c",
   "metadata": {},
   "source": [
    "### Print Out Total Number of Spectra per Matched Source"
   ]
  },
  {
   "cell_type": "code",
   "execution_count": null,
   "id": "3f575ab0-0320-4b03-831a-145dc71f96ae",
   "metadata": {},
   "outputs": [],
   "source": [
    "for i,src in enumerate(spall_sample_match.CATALOGID.unique()):\n",
    "\n",
    "    if i > 9: break\n",
    "        \n",
    "    df_entries = spall_sample_match.loc[spall_sample_match.CATALOGID ==src]\n",
    "    Nspecfiles = len(df_entries)\n",
    "    Nspectotal = df_entries.NEXP.sum()\n",
    "    print(f\"ID = {src:17d}:   {Nspectotal:3d} spectra total across {Nspecfiles:2d} file(s)\")"
   ]
  },
  {
   "cell_type": "markdown",
   "id": "4969717d-44ae-4dcc-a48c-adccc0865b7e",
   "metadata": {},
   "source": [
    "### Download Spectra using urllib\n",
    "Only get spectra for first 10 sources"
   ]
  },
  {
   "cell_type": "code",
   "execution_count": null,
   "id": "03dbe30e-dcb1-48b3-b195-88cdfbfe3c77",
   "metadata": {},
   "outputs": [],
   "source": [
    "if not os.path.exists(SAVE_DIR):\n",
    "    os.mkdir(SAVE_DIR)\n",
    "\n",
    "# Download the spectra\n",
    "spec_paths_urllib_multiobject = sdssv.download_spec_urllib(\n",
    "    spall_sample_match.iloc[:10],\n",
    "    VERSION,\n",
    "    coadd_type=COADD_TYPE,\n",
    "    save_dir=SAVE_DIR,\n",
    "    spectype=SPEC_TYPE,\n",
    "    netfile=None,   # Defaults to looking in home directory for .netrc file\n",
    "    threads=8,      # Number of parallel download streams\n",
    "    chunksize=100,  # Number of jobs to submit at once\n",
    "    sleeptime=3.0,  # Time (sec) to pause between job submissions\n",
    "    overwrite=False # Whether to overwrite existing local spectra\n",
    ")\n",
    "\n",
    "# Print local paths to downloaded files\n",
    "print('\\nLocal File Paths to Spectra:')\n",
    "for sp in spec_paths_urllib_multiobject:\n",
    "    print(sp)"
   ]
  },
  {
   "cell_type": "markdown",
   "id": "8f791091-6f88-4fa8-8925-27b2f7859a4e",
   "metadata": {},
   "source": [
    "### Plot Each Coadd Spectrum"
   ]
  },
  {
   "cell_type": "code",
   "execution_count": null,
   "id": "8641771e-f9e2-47a0-b321-bc4b7efda5c3",
   "metadata": {},
   "outputs": [],
   "source": [
    "for spec_idx,specname in enumerate(spec_paths_urllib_multiobject):\n",
    "    \n",
    "    spec_data = sdssv.load_SDSS_spectrum(\n",
    "        specname, \n",
    "        method='COADD' # Only the co-added spectrum will be returned\n",
    "    )\n",
    "    sdssv.plot_spectrum(\n",
    "        spec_data['COADD'], \n",
    "        spall_dat=spall_sample_match.iloc[spec_idx],\n",
    "        show_sky=False,\n",
    "        show_uncertainty=True\n",
    "    )\n",
    "    plt.close()"
   ]
  },
  {
   "cell_type": "markdown",
   "id": "2248d927-ed4a-459c-9ce2-f318431d0bdb",
   "metadata": {},
   "source": [
    "### Look at All Individual Spectra For a Source Across Multiple Files"
   ]
  },
  {
   "cell_type": "code",
   "execution_count": null,
   "id": "a849d799-86b1-468b-9c77-b33068e75e14",
   "metadata": {},
   "outputs": [],
   "source": [
    "# Get paths to files for multi-epoch spectra\n",
    "obj_idx = 0\n",
    "catID = spall_sample_match.CATALOGID.unique()[obj_idx]\n",
    "catID_idx = spall_sample_match.CATALOGID == catID\n",
    "catID_entries = spall_sample_match.loc[catID_idx].reset_index(drop=True)\n",
    "catID_specfiles = [x for idx,x in zip(catID_idx,spec_paths_urllib_multiobject) if idx]\n",
    "catID_nspec = catID_entries.NEXP.sum()\n",
    "\n",
    "if SPEC_TYPE == 'lite':\n",
    "    print('Only COADDs are available in LITE spec files.')\n",
    "else:\n",
    "    print(f'\\nPlotting {catID_nspec} individual spectra for Catalog ID {catID}\\n')\n",
    "    \n",
    "    # Load and plot each spectrum\n",
    "    for i,row in catID_entries.iterrows():\n",
    "    \n",
    "        specname = catID_specfiles[i]\n",
    "        spec_data = sdssv.load_SDSS_spectrum(\n",
    "            specname, \n",
    "            method='ALL' # All individual spectra + coadd are returned\n",
    "        )\n",
    "        \n",
    "        for key in spec_data.keys():\n",
    "            if key == 'COADD':\n",
    "                continue\n",
    "                \n",
    "            sdssv.plot_spectrum(\n",
    "                spec_data[key],\n",
    "                spall_dat = catID_entries.iloc[i],\n",
    "                show_uncertainty=True\n",
    "            );\n",
    "            plt.close()\n"
   ]
  },
  {
   "cell_type": "code",
   "execution_count": null,
   "id": "3071e24b-7fb5-4f13-b831-a6ea64ec855c",
   "metadata": {},
   "outputs": [],
   "source": []
  }
 ],
 "metadata": {
  "kernelspec": {
   "display_name": "Python 3 (ipykernel)",
   "language": "python",
   "name": "python3"
  },
  "language_info": {
   "codemirror_mode": {
    "name": "ipython",
    "version": 3
   },
   "file_extension": ".py",
   "mimetype": "text/x-python",
   "name": "python",
   "nbconvert_exporter": "python",
   "pygments_lexer": "ipython3",
   "version": "3.11.9"
  }
 },
 "nbformat": 4,
 "nbformat_minor": 5
}
